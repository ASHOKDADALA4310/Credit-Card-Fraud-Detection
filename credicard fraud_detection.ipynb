{
  "cells": [
    {
      "cell_type": "code",
      "source": [
        "import pandas as pd\n",
        "import numpy as np\n",
        "import seaborn as sns\n",
        "import matplotlib.pyplot as plt\n",
        "import warnings\n",
        "warnings.filterwarnings('ignore')\n",
        "%matplotlib inline"
      ],
      "metadata": {
        "id": "WXyro5LcM9vA"
      },
      "execution_count": 5,
      "outputs": []
    },
    {
      "cell_type": "code",
      "source": [
        "df = pd.read_csv('creditcard.csv')\n",
        "df.head()"
      ],
      "metadata": {
        "id": "6dopOX_CNXP1"
      },
      "execution_count": null,
      "outputs": []
    },
    {
      "cell_type": "code",
      "source": [
        "# statistical info\n",
        "df.describe()"
      ],
      "metadata": {
        "id": "VlizPZIJNcwu"
      },
      "execution_count": null,
      "outputs": []
    },
    {
      "cell_type": "code",
      "source": [
        "# datatype info\n",
        "df.info()"
      ],
      "metadata": {
        "id": "gWTECuHyNfUe"
      },
      "execution_count": null,
      "outputs": []
    },
    {
      "cell_type": "code",
      "source": [
        "# check for null values\n",
        "df.isnull().sum()"
      ],
      "metadata": {
        "id": "ZgrwiiWYNxij"
      },
      "execution_count": null,
      "outputs": []
    },
    {
      "cell_type": "code",
      "source": [
        "sns.countplot(df['Class'])"
      ],
      "metadata": {
        "id": "M2mq7puEN0Zb"
      },
      "execution_count": null,
      "outputs": []
    },
    {
      "cell_type": "code",
      "source": [
        "df_temp = df.drop(columns=['Time', 'Amount', 'Class'], axis=1)\n",
        "\n",
        "# create dist plots\n",
        "fig, ax = plt.subplots(ncols=4, nrows=7, figsize=(20, 50))\n",
        "index = 0\n",
        "ax = ax.flatten()\n",
        "\n",
        "for col in df_temp.columns:\n",
        "    sns.distplot(df_temp[col], ax=ax[index])\n",
        "    index += 1\n",
        "plt.tight_layout(pad=0.5, w_pad=0.5, h_pad=5)"
      ],
      "metadata": {
        "id": "vljw5rHhN9rq"
      },
      "execution_count": null,
      "outputs": []
    },
    {
      "cell_type": "code",
      "source": [
        "sns.distplot(df['Time'])"
      ],
      "metadata": {
        "id": "H_wE2IoGOCOW"
      },
      "execution_count": null,
      "outputs": []
    },
    {
      "cell_type": "code",
      "source": [
        "sns.distplot(df['Amount'])"
      ],
      "metadata": {
        "id": "2BoverX4OEd_"
      },
      "execution_count": null,
      "outputs": []
    },
    {
      "cell_type": "code",
      "source": [
        "corr = df.corr()\n",
        "plt.figure(figsize=(30,40))\n",
        "sns.heatmap(corr, annot=True, cmap='coolwarm')"
      ],
      "metadata": {
        "id": "UeRMhyATOISG"
      },
      "execution_count": null,
      "outputs": []
    },
    {
      "cell_type": "code",
      "source": [
        "X = df.drop(columns=['Class'], axis=1)\n",
        "y = df['Class']"
      ],
      "metadata": {
        "id": "qZ7abIEnOLJW"
      },
      "execution_count": null,
      "outputs": []
    },
    {
      "cell_type": "code",
      "source": [
        "from sklearn.preprocessing import StandardScaler\n",
        "sc = StandardScaler()\n",
        "x_scaler = sc.fit_transform(X)"
      ],
      "metadata": {
        "id": "1fizbEj3ONtH"
      },
      "execution_count": null,
      "outputs": []
    },
    {
      "cell_type": "code",
      "source": [
        "x_scaler[-1]"
      ],
      "metadata": {
        "id": "DR-OQEMkOQ33"
      },
      "execution_count": null,
      "outputs": []
    },
    {
      "cell_type": "code",
      "source": [
        "# train test split\n",
        "from sklearn.model_selection import train_test_split\n",
        "from sklearn.metrics import classification_report, f1_score\n",
        "x_train, x_test, y_train, y_test = train_test_split(x_scaler, y, test_size=0.25, random_state=42, stratify=y)"
      ],
      "metadata": {
        "id": "CXGtmyf2OT1G"
      },
      "execution_count": null,
      "outputs": []
    },
    {
      "cell_type": "code",
      "source": [
        "from sklearn.linear_model import LogisticRegression\n",
        "model = LogisticRegression()\n",
        "# training\n",
        "model.fit(x_train, y_train)\n",
        "# testing\n",
        "y_pred = model.predict(x_test)\n",
        "print(classification_report(y_test, y_pred))\n",
        "print(\"F1 Score:\",f1_score(y_test, y_pred))"
      ],
      "metadata": {
        "id": "6qpKySXSOWPW"
      },
      "execution_count": null,
      "outputs": []
    },
    {
      "cell_type": "code",
      "source": [
        "from sklearn.ensemble import RandomForestClassifier\n",
        "model = RandomForestClassifier()\n",
        "# training\n",
        "model.fit(x_train, y_train)\n",
        "# testing\n",
        "y_pred = model.predict(x_test)\n",
        "print(classification_report(y_test, y_pred))\n",
        "print(\"F1 Score:\",f1_score(y_test, y_pred))"
      ],
      "metadata": {
        "id": "BxHm5sGWOZcG"
      },
      "execution_count": null,
      "outputs": []
    },
    {
      "cell_type": "code",
      "source": [
        "from xgboost import XGBClassifier\n",
        "model = XGBClassifier(n_jobs=-1)\n",
        "# training\n",
        "model.fit(x_train, y_train)\n",
        "# testing\n",
        "y_pred = model.predict(x_test)\n",
        "print(classification_report(y_test, y_pred))\n",
        "print(\"F1 Score:\",f1_score(y_test, y_pred))"
      ],
      "metadata": {
        "id": "1nQK_c5NOc_2"
      },
      "execution_count": null,
      "outputs": []
    },
    {
      "cell_type": "code",
      "source": [
        "sns.countplot(y_train)"
      ],
      "metadata": {
        "id": "94b175aYOfpD"
      },
      "execution_count": null,
      "outputs": []
    },
    {
      "cell_type": "code",
      "source": [
        "# hint - use combination of over sampling and under sampling\n",
        "# balance the class with equal distribution\n",
        "from imblearn.over_sampling import SMOTE\n",
        "over_sample = SMOTE()\n",
        "x_smote, y_smote = over_sample.fit_resample(x_train, y_train)"
      ],
      "metadata": {
        "id": "qwfQIS3tOjaD"
      },
      "execution_count": null,
      "outputs": []
    },
    {
      "cell_type": "code",
      "source": [
        "sns.countplot(y_smote)"
      ],
      "metadata": {
        "id": "AqACOwZUOkbi"
      },
      "execution_count": null,
      "outputs": []
    },
    {
      "cell_type": "code",
      "source": [
        "from sklearn.linear_model import LogisticRegression\n",
        "model = LogisticRegression()\n",
        "# training\n",
        "model.fit(x_smote, y_smote)\n",
        "# testing\n",
        "y_pred = model.predict(x_test)\n",
        "print(classification_report(y_test, y_pred))\n",
        "print(\"F1 Score:\",f1_score(y_test, y_pred))"
      ],
      "metadata": {
        "id": "ae3tO8RcOqrj"
      },
      "execution_count": null,
      "outputs": []
    },
    {
      "cell_type": "code",
      "source": [
        "from sklearn.ensemble import RandomForestClassifier\n",
        "model = RandomForestClassifier(n_jobs=-1)\n",
        "# training\n",
        "model.fit(x_smote, y_smote)\n",
        "# testing\n",
        "y_pred = model.predict(x_test)\n",
        "print(classification_report(y_test, y_pred))\n",
        "print(\"F1 Score:\",f1_score(y_test, y_pred))"
      ],
      "metadata": {
        "id": "r7Czr-JKOm37"
      },
      "execution_count": null,
      "outputs": []
    },
    {
      "cell_type": "code",
      "source": [
        "from xgboost import XGBClassifier\n",
        "model = XGBClassifier(n_jobs=-1)\n",
        "# training\n",
        "model.fit(x_smote, y_smote)\n",
        "# testing\n",
        "y_pred = model.predict(x_test)\n",
        "print(classification_report(y_test, y_pred))\n",
        "print(\"F1 Score:\",f1_score(y_test, y_pred))"
      ],
      "metadata": {
        "id": "LS4wosPPOxVg"
      },
      "execution_count": null,
      "outputs": []
    },
    {
      "cell_type": "code",
      "source": [],
      "metadata": {
        "id": "unS81JNqOzXX"
      },
      "execution_count": null,
      "outputs": []
    }
  ],
  "metadata": {
    "colab": {
      "name": "Welcome to Colaboratory",
      "provenance": []
    },
    "kernelspec": {
      "display_name": "Python 3",
      "name": "python3"
    }
  },
  "nbformat": 4,
  "nbformat_minor": 0
}